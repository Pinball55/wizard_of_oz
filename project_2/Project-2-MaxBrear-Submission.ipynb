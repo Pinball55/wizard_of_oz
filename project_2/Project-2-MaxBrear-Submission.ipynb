{
 "cells": [
  {
   "cell_type": "markdown",
   "metadata": {},
   "source": [
    "<img src=\"http://imgur.com/1ZcRyrc.png\" style=\"float: left; margin: 20px; height: 55px\">\n",
    "\n",
    "# Project 2: Analyzing IMDb Data\n",
    "\n",
    "_Author: Kevin Markham (DC)_\n",
    "\n",
    "---"
   ]
  },
  {
   "cell_type": "markdown",
   "metadata": {},
   "source": [
    "For project two, you will complete a serious of exercises exploring movie rating data from IMDb.\n",
    "\n",
    "For these exercises, you will be conducting basic exploratory data analysis on IMDB's movie data, looking to answer such questions as:\n",
    "\n",
    "What is the average rating per genre?\n",
    "How many different actors are in a movie?\n",
    "\n",
    "This process will help you practice your data analysis skills while becoming comfortable with Pandas."
   ]
  },
  {
   "cell_type": "markdown",
   "metadata": {},
   "source": [
    "## Basic level"
   ]
  },
  {
   "cell_type": "code",
   "execution_count": 480,
   "metadata": {
    "collapsed": true
   },
   "outputs": [],
   "source": [
    "import pandas as pd\n",
    "import matplotlib.pyplot as plt\n",
    "import numpy as np\n",
    "import seaborn as sns\n",
    "%matplotlib inline\n",
    "\n",
    "# Added numpy and seaborn to the original list"
   ]
  },
  {
   "cell_type": "markdown",
   "metadata": {},
   "source": [
    "#### Read in 'imdb_1000.csv' and store it in a DataFrame named movies."
   ]
  },
  {
   "cell_type": "code",
   "execution_count": 481,
   "metadata": {
    "scrolled": true
   },
   "outputs": [
    {
     "data": {
      "text/html": [
       "<div>\n",
       "<style>\n",
       "    .dataframe thead tr:only-child th {\n",
       "        text-align: right;\n",
       "    }\n",
       "\n",
       "    .dataframe thead th {\n",
       "        text-align: left;\n",
       "    }\n",
       "\n",
       "    .dataframe tbody tr th {\n",
       "        vertical-align: top;\n",
       "    }\n",
       "</style>\n",
       "<table border=\"1\" class=\"dataframe\">\n",
       "  <thead>\n",
       "    <tr style=\"text-align: right;\">\n",
       "      <th></th>\n",
       "      <th>star_rating</th>\n",
       "      <th>title</th>\n",
       "      <th>content_rating</th>\n",
       "      <th>genre</th>\n",
       "      <th>duration</th>\n",
       "      <th>actors_list</th>\n",
       "    </tr>\n",
       "  </thead>\n",
       "  <tbody>\n",
       "    <tr>\n",
       "      <th>0</th>\n",
       "      <td>9.3</td>\n",
       "      <td>The Shawshank Redemption</td>\n",
       "      <td>R</td>\n",
       "      <td>Crime</td>\n",
       "      <td>142</td>\n",
       "      <td>[u'Tim Robbins', u'Morgan Freeman', u'Bob Gunt...</td>\n",
       "    </tr>\n",
       "    <tr>\n",
       "      <th>1</th>\n",
       "      <td>9.2</td>\n",
       "      <td>The Godfather</td>\n",
       "      <td>R</td>\n",
       "      <td>Crime</td>\n",
       "      <td>175</td>\n",
       "      <td>[u'Marlon Brando', u'Al Pacino', u'James Caan']</td>\n",
       "    </tr>\n",
       "    <tr>\n",
       "      <th>2</th>\n",
       "      <td>9.1</td>\n",
       "      <td>The Godfather: Part II</td>\n",
       "      <td>R</td>\n",
       "      <td>Crime</td>\n",
       "      <td>200</td>\n",
       "      <td>[u'Al Pacino', u'Robert De Niro', u'Robert Duv...</td>\n",
       "    </tr>\n",
       "    <tr>\n",
       "      <th>3</th>\n",
       "      <td>9.0</td>\n",
       "      <td>The Dark Knight</td>\n",
       "      <td>PG-13</td>\n",
       "      <td>Action</td>\n",
       "      <td>152</td>\n",
       "      <td>[u'Christian Bale', u'Heath Ledger', u'Aaron E...</td>\n",
       "    </tr>\n",
       "    <tr>\n",
       "      <th>4</th>\n",
       "      <td>8.9</td>\n",
       "      <td>Pulp Fiction</td>\n",
       "      <td>R</td>\n",
       "      <td>Crime</td>\n",
       "      <td>154</td>\n",
       "      <td>[u'John Travolta', u'Uma Thurman', u'Samuel L....</td>\n",
       "    </tr>\n",
       "  </tbody>\n",
       "</table>\n",
       "</div>"
      ],
      "text/plain": [
       "   star_rating                     title content_rating   genre  duration  \\\n",
       "0          9.3  The Shawshank Redemption              R   Crime       142   \n",
       "1          9.2             The Godfather              R   Crime       175   \n",
       "2          9.1    The Godfather: Part II              R   Crime       200   \n",
       "3          9.0           The Dark Knight          PG-13  Action       152   \n",
       "4          8.9              Pulp Fiction              R   Crime       154   \n",
       "\n",
       "                                         actors_list  \n",
       "0  [u'Tim Robbins', u'Morgan Freeman', u'Bob Gunt...  \n",
       "1    [u'Marlon Brando', u'Al Pacino', u'James Caan']  \n",
       "2  [u'Al Pacino', u'Robert De Niro', u'Robert Duv...  \n",
       "3  [u'Christian Bale', u'Heath Ledger', u'Aaron E...  \n",
       "4  [u'John Travolta', u'Uma Thurman', u'Samuel L....  "
      ]
     },
     "execution_count": 481,
     "metadata": {},
     "output_type": "execute_result"
    }
   ],
   "source": [
    "movies = pd.read_csv('./data/imdb_1000.csv')  # movies will be the original csv based dataframe throughout\n",
    "movies.head()  # Additional step to show quick view of the csv dataframe format\n",
    "\n",
    "# ----MB-Notes---- #\n",
    "# The csv file must be in the same root directory as this notebook using the above notation"
   ]
  },
  {
   "cell_type": "markdown",
   "metadata": {},
   "source": [
    "#### Check the number of rows and columns."
   ]
  },
  {
   "cell_type": "code",
   "execution_count": 482,
   "metadata": {},
   "outputs": [
    {
     "name": "stdout",
     "output_type": "stream",
     "text": [
      "Number of rows: 979\n",
      "Number of columns: 6\n"
     ]
    }
   ],
   "source": [
    "print('Number of rows: ' + str(len(movies.index)))\n",
    "print('Number of columns: ' + str(len(movies.columns)))\n",
    "\n",
    "# ----MB-Notes---- #\n",
    "# Line 1 doesn't need the .index notation as this is the default position but it's good practice to include it"
   ]
  },
  {
   "cell_type": "markdown",
   "metadata": {},
   "source": [
    "#### Check the data type of each column."
   ]
  },
  {
   "cell_type": "code",
   "execution_count": 483,
   "metadata": {},
   "outputs": [
    {
     "data": {
      "text/plain": [
       "star_rating       float64\n",
       "title              object\n",
       "content_rating     object\n",
       "genre              object\n",
       "duration            int64\n",
       "actors_list        object\n",
       "dtype: object"
      ]
     },
     "execution_count": 483,
     "metadata": {},
     "output_type": "execute_result"
    }
   ],
   "source": [
    "movies.dtypes  # Standard proceedure"
   ]
  },
  {
   "cell_type": "markdown",
   "metadata": {},
   "source": [
    "#### Calculate the average movie duration."
   ]
  },
  {
   "cell_type": "code",
   "execution_count": 484,
   "metadata": {},
   "outputs": [
    {
     "name": "stdout",
     "output_type": "stream",
     "text": [
      "Avg movie duration: 120.98 minutes\n"
     ]
    }
   ],
   "source": [
    "print('Avg movie duration: ' + str(round(movies.duration.mean(), 2)) + ' minutes')\n",
    "\n",
    "# ----MB-Notes---- #\n",
    "# The 'round' function has been used to shorten the answer to 2 decimal places"
   ]
  },
  {
   "cell_type": "markdown",
   "metadata": {},
   "source": [
    "#### Sort the DataFrame by duration to find the shortest and longest movies."
   ]
  },
  {
   "cell_type": "code",
   "execution_count": 485,
   "metadata": {},
   "outputs": [
    {
     "name": "stdout",
     "output_type": "stream",
     "text": [
      "Shortest Film: Freaks (64 mins)\n",
      "Longest Film: Hamlet (242 mins)\n"
     ]
    }
   ],
   "source": [
    "movies_sorted = pd.DataFrame()  # Not necessary but I think it's always good practive to define new objects\n",
    "movies_sorted = movies.sort_values('duration', ascending=True)\n",
    "\n",
    "print('Shortest Film: ' + str(movies_sorted['title'].iloc[0]) + ' (' + str(movies_sorted['duration'].iloc[0]) + ' mins)')\n",
    "print('Longest Film: ' + str(movies_sorted['title'].iloc[-1]) + ' (' + str(movies_sorted['duration'].iloc[-1]) + ' mins)')\n",
    "\n",
    "# ----MB-Notes---- #\n",
    "# The .iloc works on [row_num, col_num] syntax starting from 0\n",
    "# You must update the dataframe (or in this case create a new df called movies_sorted) before printing otherwise it'll revert to the original dataframe\n",
    "# movies_sorted.duration.describe() - can be used to check min and max values as a double check"
   ]
  },
  {
   "cell_type": "markdown",
   "metadata": {},
   "source": [
    "#### Create a histogram of duration, choosing an \"appropriate\" number of bins."
   ]
  },
  {
   "cell_type": "code",
   "execution_count": 486,
   "metadata": {},
   "outputs": [
    {
     "data": {
      "text/plain": [
       "<matplotlib.axes._subplots.AxesSubplot at 0x1a1f94f9b0>"
      ]
     },
     "execution_count": 486,
     "metadata": {},
     "output_type": "execute_result"
    },
    {
     "data": {
      "image/png": "[encoded data removed]",
      "text/plain": [
       "<matplotlib.figure.Figure at 0x1a1f59ea58>"
      ]
     },
     "metadata": {},
     "output_type": "display_data"
    }
   ],
   "source": [
    "movies.duration.plot.hist(bins = 18)\n",
    "\n",
    "# ----MB-Notes---- #\n",
    "# I chose 18 bins as diff between longest & shortest film is 178 mins so each bins represents approx. 10 mins"
   ]
  },
  {
   "cell_type": "markdown",
   "metadata": {},
   "source": [
    "#### Use a box plot to display that same data."
   ]
  },
  {
   "cell_type": "code",
   "execution_count": 487,
   "metadata": {},
   "outputs": [
    {
     "data": {
      "text/plain": [
       "<matplotlib.axes._subplots.AxesSubplot at 0x1a1f9a7a58>"
      ]
     },
     "execution_count": 487,
     "metadata": {},
     "output_type": "execute_result"
    },
    {
     "data": {
      "image/png": "[encoded data removed]",
      "text/plain": [
       "<matplotlib.figure.Figure at 0x1a1f937ac8>"
      ]
     },
     "metadata": {},
     "output_type": "display_data"
    }
   ],
   "source": [
    "color_1 = dict(boxes='Black', whiskers='DarkOrange', medians='Black', caps='Gray')\n",
    "movies.duration.plot.box(vert=False, grid='True', color=color_1, sym='r+')\n",
    "\n",
    "# ----MB-Notes---- #\n",
    "# Coloring the plot using a defined dictionary is clearly optional but good practice\n",
    "# Box plots can be drawn calling Series.plot.box(), DataFrame.plot.box() or DataFrame.boxplot()\n",
    "# Chose a horizontal box plot as I think it's better to have time on the horizontal axis"
   ]
  },
  {
   "cell_type": "markdown",
   "metadata": {},
   "source": [
    "## Intermediate level"
   ]
  },
  {
   "cell_type": "markdown",
   "metadata": {},
   "source": [
    "#### Count how many movies have each of the content ratings."
   ]
  },
  {
   "cell_type": "code",
   "execution_count": 488,
   "metadata": {},
   "outputs": [
    {
     "data": {
      "text/plain": [
       "R            460\n",
       "PG-13        189\n",
       "PG           123\n",
       "NOT RATED     65\n",
       "APPROVED      47\n",
       "UNRATED       38\n",
       "G             32\n",
       "NC-17          7\n",
       "PASSED         7\n",
       "X              4\n",
       "GP             3\n",
       "NaN            3\n",
       "TV-MA          1\n",
       "Name: content_rating, dtype: int64"
      ]
     },
     "execution_count": 488,
     "metadata": {},
     "output_type": "execute_result"
    }
   ],
   "source": [
    "movies.content_rating.value_counts(dropna = False)\n",
    "\n",
    "# ----MB-Notes---- #\n",
    "# Important to include dropna = False as the default is true which will miss 3 blank nan values"
   ]
  },
  {
   "cell_type": "markdown",
   "metadata": {},
   "source": [
    "#### Use a visualization to display that same data, including a title and x and y labels."
   ]
  },
  {
   "cell_type": "code",
   "execution_count": 489,
   "metadata": {},
   "outputs": [
    {
     "data": {
      "text/plain": [
       "Text(0,0.5,'Movie Rating')"
      ]
     },
     "execution_count": 489,
     "metadata": {},
     "output_type": "execute_result"
    },
    {
     "data": {
      "image/png": "[encoded data removed]",
      "text/plain": [
       "<matplotlib.figure.Figure at 0x1a1f937828>"
      ]
     },
     "metadata": {},
     "output_type": "display_data"
    }
   ],
   "source": [
    "rating_df = pd.DataFrame()  # Not necessary but I think it's always good practive to define new objects\n",
    "rating_df = movies.content_rating.value_counts(ascending = True, dropna = False).reset_index().rename(columns={'index': 'content_rating', 'content_rating': 'frequency'})\n",
    "\n",
    "rating_plot = rating_df.plot.barh(x = 'content_rating', legend = False, title = 'Movie volume by Content Rating')\n",
    "rating_plot.set_xlabel('Number of Movies')\n",
    "rating_plot.set_ylabel('Movie Rating')\n",
    "\n",
    "# ----MB-Notes---- #\n",
    "# The creation of rating_df isn't totally necessary but it's better to keep things clean, especially for later calcs\n",
    "# barh is a horizontal bar compared to just bar which is vertical\n",
    "\n",
    "# ----Option 2---- #\n",
    "# This option is simpler but I think having a data frame is better in the long run\n",
    "# ---------------- #\n",
    "# movies.content_rating.value_counts(dropna=False).plot.barh()\n",
    "# plt.title('Movie volume by Content Rating')\n",
    "# plt.xlabel('Number of Movies')\n",
    "# plt.ylabel('Movie Rating')"
   ]
  },
  {
   "cell_type": "markdown",
   "metadata": {},
   "source": [
    "#### Convert the following content ratings to \"UNRATED\": NOT RATED, APPROVED, PASSED, GP."
   ]
  },
  {
   "cell_type": "code",
   "execution_count": 490,
   "metadata": {},
   "outputs": [
    {
     "data": {
      "text/plain": [
       "R          460\n",
       "PG-13      189\n",
       "UNRATED    160\n",
       "PG         123\n",
       "G           32\n",
       "NC-17        7\n",
       "X            4\n",
       "NaN          3\n",
       "TV-MA        1\n",
       "Name: content_rating, dtype: int64"
      ]
     },
     "execution_count": 490,
     "metadata": {},
     "output_type": "execute_result"
    }
   ],
   "source": [
    "movies_adj1 = pd.DataFrame()\n",
    "movies_adj1 = movies.replace(['NOT RATED', 'APPROVED', 'PASSED', 'GP'],['UNRATED', 'UNRATED', 'UNRATED', 'UNRATED'])\n",
    "movies_adj1.content_rating.value_counts(dropna=False)\n",
    "\n",
    "# ----MB-Notes---- #\n",
    "# The creation of movies_adj1 isn't totally necessary but it's better not to change the original csv data"
   ]
  },
  {
   "cell_type": "markdown",
   "metadata": {},
   "source": [
    "#### Convert the following content ratings to \"NC-17\": X, TV-MA."
   ]
  },
  {
   "cell_type": "code",
   "execution_count": 491,
   "metadata": {},
   "outputs": [
    {
     "data": {
      "text/plain": [
       "R          460\n",
       "PG-13      189\n",
       "UNRATED    160\n",
       "PG         123\n",
       "G           32\n",
       "NC-17       12\n",
       "NaN          3\n",
       "Name: content_rating, dtype: int64"
      ]
     },
     "execution_count": 491,
     "metadata": {},
     "output_type": "execute_result"
    }
   ],
   "source": [
    "movies_adj2 = movies_adj1.replace(['X', 'TV-MA'],['NC-17', 'NC-17'])\n",
    "movies_adj2.content_rating.value_counts(dropna=False)\n",
    "\n",
    "# ----MB-Notes---- #\n",
    "# This code makes further adjustments to the already adjusted df movies_adj1 so created another df"
   ]
  },
  {
   "cell_type": "markdown",
   "metadata": {},
   "source": [
    "#### Count the number of missing values in each column."
   ]
  },
  {
   "cell_type": "code",
   "execution_count": 492,
   "metadata": {},
   "outputs": [
    {
     "data": {
      "text/plain": [
       "star_rating       0\n",
       "title             0\n",
       "content_rating    3\n",
       "genre             0\n",
       "duration          0\n",
       "actors_list       0\n",
       "dtype: int64"
      ]
     },
     "execution_count": 492,
     "metadata": {},
     "output_type": "execute_result"
    }
   ],
   "source": [
    "movies_adj2.isnull().sum()  # Standard proceedure"
   ]
  },
  {
   "cell_type": "markdown",
   "metadata": {},
   "source": [
    "#### If there are missing values: examine them, then fill them in with \"reasonable\" values."
   ]
  },
  {
   "cell_type": "code",
   "execution_count": 493,
   "metadata": {},
   "outputs": [
    {
     "data": {
      "text/plain": [
       "R          460\n",
       "PG-13      189\n",
       "UNRATED    163\n",
       "PG         123\n",
       "G           32\n",
       "NC-17       12\n",
       "Name: content_rating, dtype: int64"
      ]
     },
     "execution_count": 493,
     "metadata": {},
     "output_type": "execute_result"
    }
   ],
   "source": [
    "movies_adj2[movies_adj2.isnull().any(axis=1)]\n",
    "# Used to examine all items in movies_adj2 that have a NaN value - won't show due to preceeding code\n",
    "\n",
    "movies_adj3 = movies_adj2.fillna('UNRATED')\n",
    "movies_adj3.content_rating.value_counts(dropna=False)\n",
    "\n",
    "# ----MB-Notes---- #\n",
    "# Once again I've created a new dataframe so as not to lose data from the previous step"
   ]
  },
  {
   "cell_type": "markdown",
   "metadata": {},
   "source": [
    "#### Calculate the average star rating for movies 2 hours or longer, and compare that with the average star rating for movies shorter than 2 hours."
   ]
  },
  {
   "cell_type": "code",
   "execution_count": 494,
   "metadata": {},
   "outputs": [
    {
     "name": "stdout",
     "output_type": "stream",
     "text": [
      "Movies > 2hrs Duration: 7.95 Avg. Stars\n",
      "Movies <= 2hrs Duration: 7.84 Avg. Stars\n"
     ]
    }
   ],
   "source": [
    "print('Movies > 2hrs Duration: ' + str(round(movies_adj3[movies_adj3.duration > 120].star_rating.mean(), 2)) + ' Avg. Stars')\n",
    "print('Movies <= 2hrs Duration: ' + str(round(movies_adj3[movies_adj3.duration <= 120].star_rating.mean(), 2)) + ' Avg. Stars')\n",
    "\n",
    "# ----MB-Notes---- #\n",
    "# The round function has been used to round star ratings to 2 decimal places"
   ]
  },
  {
   "cell_type": "markdown",
   "metadata": {},
   "source": [
    "#### Use a visualization to detect whether there is a relationship between duration and star rating."
   ]
  },
  {
   "cell_type": "code",
   "execution_count": 495,
   "metadata": {},
   "outputs": [
    {
     "data": {
      "image/png": "[encoded data removed]",
      "text/plain": [
       "<matplotlib.figure.Figure at 0x1a1fbaec88>"
      ]
     },
     "metadata": {},
     "output_type": "display_data"
    }
   ],
   "source": [
    "movies_adj3.plot.scatter(x = 'duration', y = 'star_rating')\n",
    "\n",
    "# Add Trendline using standard numpy code\n",
    "z = np.polyfit(x, y, 1)\n",
    "p = np.poly1d(z)\n",
    "plt.plot(x, p(x), 'r--')\n",
    "plt.show()\n",
    "\n",
    "# ----MB-Notes---- #\n",
    "# Answer: Star ratings appear to increase as movie duration increases"
   ]
  },
  {
   "cell_type": "markdown",
   "metadata": {},
   "source": [
    "#### Calculate the average duration for each genre."
   ]
  },
  {
   "cell_type": "code",
   "execution_count": 496,
   "metadata": {},
   "outputs": [
    {
     "data": {
      "text/plain": [
       "genre\n",
       "Action       126.485294\n",
       "Adventure    134.840000\n",
       "Animation     96.596774\n",
       "Biography    131.844156\n",
       "Comedy       107.602564\n",
       "Crime        122.298387\n",
       "Drama        126.539568\n",
       "Family       107.500000\n",
       "Fantasy      112.000000\n",
       "Film-Noir     97.333333\n",
       "History       66.000000\n",
       "Horror       102.517241\n",
       "Mystery      115.625000\n",
       "Sci-Fi       109.000000\n",
       "Thriller     114.200000\n",
       "Western      136.666667\n",
       "Name: duration, dtype: float64"
      ]
     },
     "execution_count": 496,
     "metadata": {},
     "output_type": "execute_result"
    }
   ],
   "source": [
    "movies_adj3.groupby(['genre']).duration.mean()\n",
    "\n",
    "# ----MB-Notes---- #\n",
    "# This is the simplest way without creating a new dataframe"
   ]
  },
  {
   "cell_type": "markdown",
   "metadata": {},
   "source": [
    "## Advanced level"
   ]
  },
  {
   "cell_type": "markdown",
   "metadata": {},
   "source": [
    "#### Visualize the relationship between content rating and duration."
   ]
  },
  {
   "cell_type": "code",
   "execution_count": 497,
   "metadata": {},
   "outputs": [
    {
     "name": "stderr",
     "output_type": "stream",
     "text": [
      "/anaconda3/lib/python3.6/site-packages/numpy/core/fromnumeric.py:57: FutureWarning: reshape is deprecated and will raise in a subsequent release. Please use .values.reshape(...) instead\n",
      "  return getattr(obj, method)(*args, **kwds)\n"
     ]
    },
    {
     "data": {
      "text/plain": [
       "Text(0.5,0.98,'')"
      ]
     },
     "execution_count": 497,
     "metadata": {},
     "output_type": "execute_result"
    },
    {
     "data": {
      "image/png": "[encoded data removed]",
      "text/plain": [
       "<matplotlib.figure.Figure at 0x1a1fd42da0>"
      ]
     },
     "metadata": {},
     "output_type": "display_data"
    }
   ],
   "source": [
    "rating_plot_2 = movies_adj3.boxplot(by = 'content_rating', column = 'duration', vert=False, grid='True', sym='r+')\n",
    "rating_plot_2.set_title('Movie Duration by Content Rating')\n",
    "rating_plot_2.set_xlabel('Movie Duration')\n",
    "rating_plot_2.set_ylabel('Movie Rating')\n",
    "plt.suptitle('')\n",
    "\n",
    "# ----MB-Notes---- #\n",
    "# Boxplot is the best relationship comparison visulaisation in this case\n",
    "# plt.suptitle('') is needed to remove the default title generated by .boxplot"
   ]
  },
  {
   "cell_type": "markdown",
   "metadata": {},
   "source": [
    "#### Determine the top rated movie (by star rating) for each genre."
   ]
  },
  {
   "cell_type": "code",
   "execution_count": 498,
   "metadata": {},
   "outputs": [
    {
     "data": {
      "text/html": [
       "<div>\n",
       "<style>\n",
       "    .dataframe thead tr:only-child th {\n",
       "        text-align: right;\n",
       "    }\n",
       "\n",
       "    .dataframe thead th {\n",
       "        text-align: left;\n",
       "    }\n",
       "\n",
       "    .dataframe tbody tr th {\n",
       "        vertical-align: top;\n",
       "    }\n",
       "</style>\n",
       "<table border=\"1\" class=\"dataframe\">\n",
       "  <thead>\n",
       "    <tr style=\"text-align: right;\">\n",
       "      <th></th>\n",
       "      <th>genre</th>\n",
       "      <th>title</th>\n",
       "      <th>star_rating</th>\n",
       "    </tr>\n",
       "  </thead>\n",
       "  <tbody>\n",
       "    <tr>\n",
       "      <th>0</th>\n",
       "      <td>Crime</td>\n",
       "      <td>The Shawshank Redemption</td>\n",
       "      <td>9.3</td>\n",
       "    </tr>\n",
       "    <tr>\n",
       "      <th>1</th>\n",
       "      <td>Action</td>\n",
       "      <td>The Dark Knight</td>\n",
       "      <td>9.0</td>\n",
       "    </tr>\n",
       "    <tr>\n",
       "      <th>2</th>\n",
       "      <td>Drama</td>\n",
       "      <td>12 Angry Men</td>\n",
       "      <td>8.9</td>\n",
       "    </tr>\n",
       "    <tr>\n",
       "      <th>3</th>\n",
       "      <td>Western</td>\n",
       "      <td>The Good, the Bad and the Ugly</td>\n",
       "      <td>8.9</td>\n",
       "    </tr>\n",
       "    <tr>\n",
       "      <th>4</th>\n",
       "      <td>Adventure</td>\n",
       "      <td>The Lord of the Rings: The Return of the King</td>\n",
       "      <td>8.9</td>\n",
       "    </tr>\n",
       "    <tr>\n",
       "      <th>5</th>\n",
       "      <td>Biography</td>\n",
       "      <td>Schindler's List</td>\n",
       "      <td>8.9</td>\n",
       "    </tr>\n",
       "    <tr>\n",
       "      <th>6</th>\n",
       "      <td>Comedy</td>\n",
       "      <td>Life Is Beautiful</td>\n",
       "      <td>8.6</td>\n",
       "    </tr>\n",
       "    <tr>\n",
       "      <th>7</th>\n",
       "      <td>Animation</td>\n",
       "      <td>Spirited Away</td>\n",
       "      <td>8.6</td>\n",
       "    </tr>\n",
       "    <tr>\n",
       "      <th>8</th>\n",
       "      <td>Mystery</td>\n",
       "      <td>Rear Window</td>\n",
       "      <td>8.6</td>\n",
       "    </tr>\n",
       "    <tr>\n",
       "      <th>9</th>\n",
       "      <td>Horror</td>\n",
       "      <td>Psycho</td>\n",
       "      <td>8.6</td>\n",
       "    </tr>\n",
       "    <tr>\n",
       "      <th>10</th>\n",
       "      <td>Film-Noir</td>\n",
       "      <td>The Third Man</td>\n",
       "      <td>8.3</td>\n",
       "    </tr>\n",
       "    <tr>\n",
       "      <th>11</th>\n",
       "      <td>Sci-Fi</td>\n",
       "      <td>Blade Runner</td>\n",
       "      <td>8.2</td>\n",
       "    </tr>\n",
       "    <tr>\n",
       "      <th>12</th>\n",
       "      <td>History</td>\n",
       "      <td>Battleship Potemkin</td>\n",
       "      <td>8.0</td>\n",
       "    </tr>\n",
       "    <tr>\n",
       "      <th>13</th>\n",
       "      <td>Thriller</td>\n",
       "      <td>Shadow of a Doubt</td>\n",
       "      <td>8.0</td>\n",
       "    </tr>\n",
       "    <tr>\n",
       "      <th>14</th>\n",
       "      <td>Family</td>\n",
       "      <td>E.T. the Extra-Terrestrial</td>\n",
       "      <td>7.9</td>\n",
       "    </tr>\n",
       "    <tr>\n",
       "      <th>15</th>\n",
       "      <td>Fantasy</td>\n",
       "      <td>The City of Lost Children</td>\n",
       "      <td>7.7</td>\n",
       "    </tr>\n",
       "  </tbody>\n",
       "</table>\n",
       "</div>"
      ],
      "text/plain": [
       "        genre                                          title  star_rating\n",
       "0       Crime                       The Shawshank Redemption          9.3\n",
       "1      Action                                The Dark Knight          9.0\n",
       "2       Drama                                   12 Angry Men          8.9\n",
       "3     Western                 The Good, the Bad and the Ugly          8.9\n",
       "4   Adventure  The Lord of the Rings: The Return of the King          8.9\n",
       "5   Biography                               Schindler's List          8.9\n",
       "6      Comedy                              Life Is Beautiful          8.6\n",
       "7   Animation                                  Spirited Away          8.6\n",
       "8     Mystery                                    Rear Window          8.6\n",
       "9      Horror                                         Psycho          8.6\n",
       "10  Film-Noir                                  The Third Man          8.3\n",
       "11     Sci-Fi                                   Blade Runner          8.2\n",
       "12    History                            Battleship Potemkin          8.0\n",
       "13   Thriller                              Shadow of a Doubt          8.0\n",
       "14     Family                     E.T. the Extra-Terrestrial          7.9\n",
       "15    Fantasy                      The City of Lost Children          7.7"
      ]
     },
     "execution_count": 498,
     "metadata": {},
     "output_type": "execute_result"
    }
   ],
   "source": [
    "movies_adj4 = movies_adj3.copy()  \n",
    "# --------------------\n",
    "\n",
    "movies_adj4['compare'] = movies_adj4.duplicated(subset = 'genre', keep = 'first')\n",
    "# copy the dataframe and check for duplicate genres, making the first instances as 'False' as it's not a duplicate\n",
    "# this is important as it means only the first instance of the genre will be marked false\n",
    "# Note this only works as the dataframe is already sorted in star_rating order\n",
    "\n",
    "col_names_a =  ['genre', 'title', 'star_rating']\n",
    "top_rated_df  = pd.DataFrame(columns = col_names_a)\n",
    "# Create a blank dataframe called top_rated to populate, making the output clearer\n",
    "\n",
    "for index, row in movies_adj4.iterrows():  # interate through the dataframe index \n",
    "    if row['compare'] == False: # if the 'compare column' is False it's the first instance of that genre\n",
    "        top_rated_df.loc[len(top_rated_df)] = [row['genre'], row['title'], row['star_rating']]  # add the film data to the dataframe\n",
    "\n",
    "top_rated_df    \n",
    "    \n",
    "# ----MB-Notes---- #\n",
    "# The .copy function is used to create a new dataframe so we don't adjust the previous version\n",
    "\n",
    "# ----Option 2---- #\n",
    "# Simpler option without using a dataframe but the output isn't as clear\n",
    "# ---------------- #\n",
    "# movies_adj4 = movies_adj3.copy()  \n",
    "# movies_adj4['compare'] = movies_adj4.duplicated(subset = 'genre', keep = 'first')\n",
    "\n",
    "# for index, row in movies_adj4.iterrows():\n",
    "#     if row['compare'] == False and row['compare'] not in genre_list:\n",
    "#         print(row['genre'], row['title'], row['star_rating'])"
   ]
  },
  {
   "cell_type": "markdown",
   "metadata": {},
   "source": [
    "#### Check if there are multiple movies with the same title, and if so, determine if they are actually duplicates."
   ]
  },
  {
   "cell_type": "code",
   "execution_count": 499,
   "metadata": {},
   "outputs": [
    {
     "name": "stdout",
     "output_type": "stream",
     "text": [
      "Total Movie Records: 979\n",
      "Unique Movie Titles: 975\n",
      "Duplicate Movie Titles: 4\n"
     ]
    },
    {
     "data": {
      "text/html": [
       "<div>\n",
       "<style>\n",
       "    .dataframe thead tr:only-child th {\n",
       "        text-align: right;\n",
       "    }\n",
       "\n",
       "    .dataframe thead th {\n",
       "        text-align: left;\n",
       "    }\n",
       "\n",
       "    .dataframe tbody tr th {\n",
       "        vertical-align: top;\n",
       "    }\n",
       "</style>\n",
       "<table border=\"1\" class=\"dataframe\">\n",
       "  <thead>\n",
       "    <tr style=\"text-align: right;\">\n",
       "      <th></th>\n",
       "      <th>star_rating</th>\n",
       "      <th>title</th>\n",
       "      <th>content_rating</th>\n",
       "      <th>genre</th>\n",
       "      <th>duration</th>\n",
       "      <th>actors_list</th>\n",
       "      <th>title_dup</th>\n",
       "    </tr>\n",
       "  </thead>\n",
       "  <tbody>\n",
       "    <tr>\n",
       "      <th>466</th>\n",
       "      <td>7.9</td>\n",
       "      <td>The Girl with the Dragon Tattoo</td>\n",
       "      <td>R</td>\n",
       "      <td>Crime</td>\n",
       "      <td>158</td>\n",
       "      <td>[u'Daniel Craig', u'Rooney Mara', u'Christophe...</td>\n",
       "      <td>True</td>\n",
       "    </tr>\n",
       "    <tr>\n",
       "      <th>482</th>\n",
       "      <td>7.8</td>\n",
       "      <td>The Girl with the Dragon Tattoo</td>\n",
       "      <td>R</td>\n",
       "      <td>Crime</td>\n",
       "      <td>152</td>\n",
       "      <td>[u'Michael Nyqvist', u'Noomi Rapace', u'Ewa Fr...</td>\n",
       "      <td>True</td>\n",
       "    </tr>\n",
       "    <tr>\n",
       "      <th>662</th>\n",
       "      <td>7.7</td>\n",
       "      <td>True Grit</td>\n",
       "      <td>PG-13</td>\n",
       "      <td>Adventure</td>\n",
       "      <td>110</td>\n",
       "      <td>[u'Jeff Bridges', u'Matt Damon', u'Hailee Stei...</td>\n",
       "      <td>True</td>\n",
       "    </tr>\n",
       "    <tr>\n",
       "      <th>678</th>\n",
       "      <td>7.7</td>\n",
       "      <td>Les Miserables</td>\n",
       "      <td>PG-13</td>\n",
       "      <td>Drama</td>\n",
       "      <td>158</td>\n",
       "      <td>[u'Hugh Jackman', u'Russell Crowe', u'Anne Hat...</td>\n",
       "      <td>True</td>\n",
       "    </tr>\n",
       "    <tr>\n",
       "      <th>703</th>\n",
       "      <td>7.6</td>\n",
       "      <td>Dracula</td>\n",
       "      <td>UNRATED</td>\n",
       "      <td>Horror</td>\n",
       "      <td>85</td>\n",
       "      <td>[u'Bela Lugosi', u'Helen Chandler', u'David Ma...</td>\n",
       "      <td>True</td>\n",
       "    </tr>\n",
       "    <tr>\n",
       "      <th>905</th>\n",
       "      <td>7.5</td>\n",
       "      <td>Dracula</td>\n",
       "      <td>R</td>\n",
       "      <td>Horror</td>\n",
       "      <td>128</td>\n",
       "      <td>[u'Gary Oldman', u'Winona Ryder', u'Anthony Ho...</td>\n",
       "      <td>True</td>\n",
       "    </tr>\n",
       "    <tr>\n",
       "      <th>924</th>\n",
       "      <td>7.5</td>\n",
       "      <td>Les Miserables</td>\n",
       "      <td>PG-13</td>\n",
       "      <td>Crime</td>\n",
       "      <td>134</td>\n",
       "      <td>[u'Liam Neeson', u'Geoffrey Rush', u'Uma Thurm...</td>\n",
       "      <td>True</td>\n",
       "    </tr>\n",
       "    <tr>\n",
       "      <th>936</th>\n",
       "      <td>7.4</td>\n",
       "      <td>True Grit</td>\n",
       "      <td>UNRATED</td>\n",
       "      <td>Adventure</td>\n",
       "      <td>128</td>\n",
       "      <td>[u'John Wayne', u'Kim Darby', u'Glen Campbell']</td>\n",
       "      <td>True</td>\n",
       "    </tr>\n",
       "  </tbody>\n",
       "</table>\n",
       "</div>"
      ],
      "text/plain": [
       "     star_rating                            title content_rating      genre  \\\n",
       "466          7.9  The Girl with the Dragon Tattoo              R      Crime   \n",
       "482          7.8  The Girl with the Dragon Tattoo              R      Crime   \n",
       "662          7.7                        True Grit          PG-13  Adventure   \n",
       "678          7.7                   Les Miserables          PG-13      Drama   \n",
       "703          7.6                          Dracula        UNRATED     Horror   \n",
       "905          7.5                          Dracula              R     Horror   \n",
       "924          7.5                   Les Miserables          PG-13      Crime   \n",
       "936          7.4                        True Grit        UNRATED  Adventure   \n",
       "\n",
       "     duration                                        actors_list  title_dup  \n",
       "466       158  [u'Daniel Craig', u'Rooney Mara', u'Christophe...       True  \n",
       "482       152  [u'Michael Nyqvist', u'Noomi Rapace', u'Ewa Fr...       True  \n",
       "662       110  [u'Jeff Bridges', u'Matt Damon', u'Hailee Stei...       True  \n",
       "678       158  [u'Hugh Jackman', u'Russell Crowe', u'Anne Hat...       True  \n",
       "703        85  [u'Bela Lugosi', u'Helen Chandler', u'David Ma...       True  \n",
       "905       128  [u'Gary Oldman', u'Winona Ryder', u'Anthony Ho...       True  \n",
       "924       134  [u'Liam Neeson', u'Geoffrey Rush', u'Uma Thurm...       True  \n",
       "936       128    [u'John Wayne', u'Kim Darby', u'Glen Campbell']       True  "
      ]
     },
     "execution_count": 499,
     "metadata": {},
     "output_type": "execute_result"
    }
   ],
   "source": [
    "movies_adj5 = movies_adj3.copy()  # Make a copy so we don't overwrite original dataframe\n",
    "# --------------------\n",
    "\n",
    "movies_adj5['title_dup'] = movies_adj5.duplicated(subset = 'title', keep = False)\n",
    "# Add a column to indicate duplicate titles\n",
    "\n",
    "total_records = int(len(movies_adj5.index))\n",
    "unique_movie_titles = int(movies_adj5.groupby('title')['title'].nunique().sum())\n",
    "# Calculate total records and unique titles - many ways to do this i.e. you could just count the Flase values in title_dup\n",
    "\n",
    "print('Total Movie Records: ' + str(total_records))\n",
    "print('Unique Movie Titles: ' + str(unique_movie_titles))\n",
    "print('Duplicate Movie Titles: ' + str(total_records - unique_movie_titles))\n",
    "\n",
    "movies_adj5.loc[movies_adj5['title_dup'] == True]\n",
    "# Return only the records that have duplicate titles\n",
    "\n",
    "# ----MB-Notes---- #\n",
    "# Answer: Films aren't duplicates as actors/actresses are different - assumption is that they are different films"
   ]
  },
  {
   "cell_type": "markdown",
   "metadata": {
    "collapsed": true
   },
   "source": [
    "#### Calculate the average star rating for each genre, but only include genres with at least 10 movies\n"
   ]
  },
  {
   "cell_type": "markdown",
   "metadata": {},
   "source": [
    "Option 1: manually create a list of relevant genres, then filter using that list"
   ]
  },
  {
   "cell_type": "code",
   "execution_count": 500,
   "metadata": {},
   "outputs": [
    {
     "data": {
      "text/plain": [
       "genre\n",
       "Action       7.88\n",
       "Adventure    7.93\n",
       "Animation    7.91\n",
       "Biography    7.86\n",
       "Comedy       7.82\n",
       "Crime        7.92\n",
       "Drama        7.90\n",
       "Horror       7.81\n",
       "Mystery      7.98\n",
       "Name: star_rating, dtype: float64"
      ]
     },
     "execution_count": 500,
     "metadata": {},
     "output_type": "execute_result"
    }
   ],
   "source": [
    "movies_adj6 = movies_adj3.copy()  # Make a copy so we don't overwrite original dataframe\n",
    "# --------------------\n",
    "\n",
    "genre_list_Manual = ['Drama', 'Comedy', 'Action', 'Crime', 'Biography', 'Adventure', 'Animation', 'Horror', 'Mystery']\n",
    "# List manually created from the csv as suggested in option 1\n",
    "\n",
    "movies_adj6 = movies_adj6[movies_adj6['genre'].isin(genre_list_Manual)]\n",
    "round(movies_adj6.groupby(['genre']).star_rating.mean(), 2)\n",
    "\n",
    "# ----MB-Notes---- #\n",
    "# Filter the dataframe and overwrite it with only those rows who's genre is in the genre_list\n",
    "# Calculate the average star rating by genre"
   ]
  },
  {
   "cell_type": "markdown",
   "metadata": {},
   "source": [
    "#### Option 2: automatically create a list of relevant genres by saving the value_counts and then filtering"
   ]
  },
  {
   "cell_type": "code",
   "execution_count": 501,
   "metadata": {},
   "outputs": [
    {
     "data": {
      "text/plain": [
       "genre\n",
       "Action       7.88\n",
       "Adventure    7.93\n",
       "Animation    7.91\n",
       "Biography    7.86\n",
       "Comedy       7.82\n",
       "Crime        7.92\n",
       "Drama        7.90\n",
       "Horror       7.81\n",
       "Mystery      7.98\n",
       "Name: star_rating, dtype: float64"
      ]
     },
     "execution_count": 501,
     "metadata": {},
     "output_type": "execute_result"
    }
   ],
   "source": [
    "movies_adj7 = movies_adj3.copy()  # Make a copy so we don't overwrite original dataframe\n",
    "# --------------------\n",
    "\n",
    "genre_count_1 = pd.DataFrame()\n",
    "genre_count_1 = movies_adj7['genre'].value_counts().reset_index().rename(columns={'index': 'genre', 'genre': 'frequency'})\n",
    "\n",
    "genre_list_Auto = []\n",
    "\n",
    "for index, row in genre_count_1.iterrows():  # Iterate through the dataframe\n",
    "    if row['frequency'] >= 10:  # Check to see if the frequency is 10 or more \n",
    "        genre_list_Auto.append(row['genre'])  # if frequency is >- 10 then add it to the genre_list\n",
    "        \n",
    "movies_adj7 = movies_adj7[movies_adj7['genre'].isin(genre_list_Auto)]\n",
    "round(movies_adj6.groupby(['genre']).star_rating.mean(), 2)\n",
    "\n",
    "# ----MB-Notes---- #\n",
    "# Similar to option 1 but with a for loop"
   ]
  },
  {
   "cell_type": "markdown",
   "metadata": {},
   "source": [
    "#### Option 3: calculate the average star rating for all genres, then filter using a boolean Series"
   ]
  },
  {
   "cell_type": "code",
   "execution_count": 502,
   "metadata": {},
   "outputs": [
    {
     "data": {
      "text/html": [
       "<div>\n",
       "<style>\n",
       "    .dataframe thead tr:only-child th {\n",
       "        text-align: right;\n",
       "    }\n",
       "\n",
       "    .dataframe thead th {\n",
       "        text-align: left;\n",
       "    }\n",
       "\n",
       "    .dataframe tbody tr th {\n",
       "        vertical-align: top;\n",
       "    }\n",
       "</style>\n",
       "<table border=\"1\" class=\"dataframe\">\n",
       "  <thead>\n",
       "    <tr style=\"text-align: right;\">\n",
       "      <th></th>\n",
       "      <th>genre</th>\n",
       "      <th>avg_star_rating</th>\n",
       "      <th>in_scope</th>\n",
       "    </tr>\n",
       "  </thead>\n",
       "  <tbody>\n",
       "    <tr>\n",
       "      <th>0</th>\n",
       "      <td>Action</td>\n",
       "      <td>7.884559</td>\n",
       "      <td>True</td>\n",
       "    </tr>\n",
       "    <tr>\n",
       "      <th>1</th>\n",
       "      <td>Adventure</td>\n",
       "      <td>7.933333</td>\n",
       "      <td>True</td>\n",
       "    </tr>\n",
       "    <tr>\n",
       "      <th>2</th>\n",
       "      <td>Animation</td>\n",
       "      <td>7.914516</td>\n",
       "      <td>True</td>\n",
       "    </tr>\n",
       "    <tr>\n",
       "      <th>3</th>\n",
       "      <td>Biography</td>\n",
       "      <td>7.862338</td>\n",
       "      <td>True</td>\n",
       "    </tr>\n",
       "    <tr>\n",
       "      <th>4</th>\n",
       "      <td>Comedy</td>\n",
       "      <td>7.822436</td>\n",
       "      <td>True</td>\n",
       "    </tr>\n",
       "    <tr>\n",
       "      <th>5</th>\n",
       "      <td>Crime</td>\n",
       "      <td>7.916935</td>\n",
       "      <td>True</td>\n",
       "    </tr>\n",
       "    <tr>\n",
       "      <th>6</th>\n",
       "      <td>Drama</td>\n",
       "      <td>7.902518</td>\n",
       "      <td>True</td>\n",
       "    </tr>\n",
       "    <tr>\n",
       "      <th>11</th>\n",
       "      <td>Horror</td>\n",
       "      <td>7.806897</td>\n",
       "      <td>True</td>\n",
       "    </tr>\n",
       "    <tr>\n",
       "      <th>12</th>\n",
       "      <td>Mystery</td>\n",
       "      <td>7.975000</td>\n",
       "      <td>True</td>\n",
       "    </tr>\n",
       "  </tbody>\n",
       "</table>\n",
       "</div>"
      ],
      "text/plain": [
       "        genre  avg_star_rating in_scope\n",
       "0      Action         7.884559     True\n",
       "1   Adventure         7.933333     True\n",
       "2   Animation         7.914516     True\n",
       "3   Biography         7.862338     True\n",
       "4      Comedy         7.822436     True\n",
       "5       Crime         7.916935     True\n",
       "6       Drama         7.902518     True\n",
       "11     Horror         7.806897     True\n",
       "12    Mystery         7.975000     True"
      ]
     },
     "execution_count": 502,
     "metadata": {},
     "output_type": "execute_result"
    }
   ],
   "source": [
    "movies_adj8 = movies_adj3.copy()  # Make a copy so we don't overwrite original dataframe\n",
    "genre_list_manual = ['Drama', 'Comedy', 'Action', 'Crime', 'Biography', 'Adventure', 'Animation', 'Horror', 'Mystery']\n",
    "# --------------------\n",
    "\n",
    "col_names_b = ['avg_star_rating', 'in_scope']\n",
    "new_df = pd.DataFrame(columns = col_names_b)\n",
    "# Create a blank dataframe called top_rated to populate, making the output clearer\n",
    "\n",
    "new_df['avg_star_rating'] = movies_adj8.groupby(['genre']).star_rating.mean()\n",
    "new_df = new_df.reset_index(drop = False)\n",
    "# Populate the dataframe with the mean ratings\n",
    "\n",
    "for index, row in new_df.iterrows():\n",
    "    if row['genre'] in genre_list_manual:  # If the genre is in the manual list flag as true\n",
    "        new_df['in_scope'].values[index] = 'True'\n",
    "    else: new_df['in_scope'].values[index] = 'False'\n",
    "\n",
    "new_df.loc[new_df['in_scope'] == 'True']  # Filter to show only the True values\n",
    "\n",
    "# ----MB-Notes---- #\n",
    "# Have retained the manul list from option 1 rather than adding the auto-code"
   ]
  },
  {
   "cell_type": "markdown",
   "metadata": {},
   "source": [
    "#### Option 4: aggregate by count and mean, then filter using the count"
   ]
  },
  {
   "cell_type": "code",
   "execution_count": 503,
   "metadata": {},
   "outputs": [
    {
     "data": {
      "text/html": [
       "<div>\n",
       "<style>\n",
       "    .dataframe thead tr:only-child th {\n",
       "        text-align: right;\n",
       "    }\n",
       "\n",
       "    .dataframe thead th {\n",
       "        text-align: left;\n",
       "    }\n",
       "\n",
       "    .dataframe tbody tr th {\n",
       "        vertical-align: top;\n",
       "    }\n",
       "</style>\n",
       "<table border=\"1\" class=\"dataframe\">\n",
       "  <thead>\n",
       "    <tr style=\"text-align: right;\">\n",
       "      <th></th>\n",
       "      <th>count</th>\n",
       "      <th>mean</th>\n",
       "    </tr>\n",
       "    <tr>\n",
       "      <th>genre</th>\n",
       "      <th></th>\n",
       "      <th></th>\n",
       "    </tr>\n",
       "  </thead>\n",
       "  <tbody>\n",
       "    <tr>\n",
       "      <th>Action</th>\n",
       "      <td>136</td>\n",
       "      <td>7.884559</td>\n",
       "    </tr>\n",
       "    <tr>\n",
       "      <th>Adventure</th>\n",
       "      <td>75</td>\n",
       "      <td>7.933333</td>\n",
       "    </tr>\n",
       "    <tr>\n",
       "      <th>Animation</th>\n",
       "      <td>62</td>\n",
       "      <td>7.914516</td>\n",
       "    </tr>\n",
       "    <tr>\n",
       "      <th>Biography</th>\n",
       "      <td>77</td>\n",
       "      <td>7.862338</td>\n",
       "    </tr>\n",
       "    <tr>\n",
       "      <th>Comedy</th>\n",
       "      <td>156</td>\n",
       "      <td>7.822436</td>\n",
       "    </tr>\n",
       "    <tr>\n",
       "      <th>Crime</th>\n",
       "      <td>124</td>\n",
       "      <td>7.916935</td>\n",
       "    </tr>\n",
       "    <tr>\n",
       "      <th>Drama</th>\n",
       "      <td>278</td>\n",
       "      <td>7.902518</td>\n",
       "    </tr>\n",
       "    <tr>\n",
       "      <th>Horror</th>\n",
       "      <td>29</td>\n",
       "      <td>7.806897</td>\n",
       "    </tr>\n",
       "    <tr>\n",
       "      <th>Mystery</th>\n",
       "      <td>16</td>\n",
       "      <td>7.975000</td>\n",
       "    </tr>\n",
       "  </tbody>\n",
       "</table>\n",
       "</div>"
      ],
      "text/plain": [
       "           count      mean\n",
       "genre                     \n",
       "Action       136  7.884559\n",
       "Adventure     75  7.933333\n",
       "Animation     62  7.914516\n",
       "Biography     77  7.862338\n",
       "Comedy       156  7.822436\n",
       "Crime        124  7.916935\n",
       "Drama        278  7.902518\n",
       "Horror        29  7.806897\n",
       "Mystery       16  7.975000"
      ]
     },
     "execution_count": 503,
     "metadata": {},
     "output_type": "execute_result"
    }
   ],
   "source": [
    "movies_adj9 = movies_adj3.copy()  # Make a copy so we don't overwrite original dataframe\n",
    "# --------------------\n",
    "\n",
    "movies_adj9 = movies_adj9.groupby(['genre']).star_rating.agg(['count', 'mean'])\n",
    "movies_adj9.loc[movies_adj9['count'] >= 10]\n",
    "\n",
    "# ----MB-Notes---- #\n",
    "# Example using the aggregate (agg) function"
   ]
  },
  {
   "cell_type": "markdown",
   "metadata": {},
   "source": [
    "## Bonus"
   ]
  },
  {
   "cell_type": "markdown",
   "metadata": {
    "collapsed": true
   },
   "source": [
    "#### Figure out something \"interesting\" using the actors data!"
   ]
  },
  {
   "cell_type": "code",
   "execution_count": null,
   "metadata": {
    "collapsed": true
   },
   "outputs": [],
   "source": [
    "# Out of time"
   ]
  }
 ],
 "metadata": {
  "kernelspec": {
   "display_name": "Python 3",
   "language": "python",
   "name": "python3"
  },
  "language_info": {
   "codemirror_mode": {
    "name": "ipython",
    "version": 3
   },
   "file_extension": ".py",
   "mimetype": "text/x-python",
   "name": "python",
   "nbconvert_exporter": "python",
   "pygments_lexer": "ipython3",
   "version": "3.6.3"
  }
 },
 "nbformat": 4,
 "nbformat_minor": 1
}
